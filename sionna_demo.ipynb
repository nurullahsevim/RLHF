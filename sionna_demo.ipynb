{
 "cells": [
  {
   "cell_type": "code",
   "execution_count": null,
   "id": "initial_id",
   "metadata": {
    "is_executing": true
   },
   "outputs": [],
   "source": [
    "# import torch\n",
    "# from transformers import T5Tokenizer, T5ForConditionalGeneration\n",
    "# from generate_data import MyDataset\n",
    "# from datasets import Dataset\n",
    "# from datasets import IterableDataset\n",
    "# import torch\n",
    "# import os,sys\n",
    "# from model import RegressionModel\n",
    "# from transformers import T5Tokenizer, T5ForConditionalGeneration, AutoTokenizer\n",
    "# from torch.utils.data import TensorDataset, DataLoader, RandomSampler\n",
    "# from torch.optim import AdamW\n",
    "# import torch.nn as nn\n",
    "# from sklearn.model_selection import train_test_split\n",
    "# import tqdm\n",
    "# import numpy as np\n",
    "# from wireless import LOS_Env\n",
    "# from transformers import pipeline, set_seed\n",
    "# import transformers\n",
    "# from transformers import LlamaTokenizer, LlamaForCausalLM\n",
    "# from transformers import AutoModelForQuestionAnswering, AutoTokenizer, AutoModel, pipeline\n",
    "import sionna\n",
    "import tensorflow as tf\n",
    "import matplotlib.pyplot as plt\n",
    "import numpy as np\n",
    "import time\n",
    "\n",
    "# Import Sionna RT components\n",
    "from sionna.rt import load_scene, Transmitter, Receiver, PlanarArray, Camera\n",
    "\n",
    "# For link-level simulations\n",
    "from sionna.channel import cir_to_ofdm_channel, subcarrier_frequencies, OFDMChannel, ApplyOFDMChannel, CIRDataset\n",
    "from sionna.nr import PUSCHConfig, PUSCHTransmitter, PUSCHReceiver\n",
    "from sionna.utils import compute_ber, ebnodb2no, PlotBER\n",
    "from sionna.ofdm import KBestDetector, LinearDetector\n",
    "from sionna.mimo import StreamManagement"
   ]
  },
  {
   "cell_type": "code",
   "execution_count": null,
   "id": "5d6054d3f47f198c",
   "metadata": {
    "collapsed": false,
    "is_executing": true
   },
   "outputs": [],
   "source": [
    "gpus = tf.config.list_physical_devices('GPU')\n",
    "if gpus:\n",
    "    try:\n",
    "        tf.config.experimental.set_memory_growth(gpus[0], True)\n",
    "    except RuntimeError as e:\n",
    "        print(e)\n",
    "# Avoid warnings from TensorFlow\n",
    "tf.get_logger().setLevel('ERROR')\n",
    "tf.random.set_seed(1)  # Set global random seed for reproducibility"
   ]
  },
  {
   "cell_type": "code",
   "execution_count": null,
   "id": "733b9323ffd4cdfb",
   "metadata": {
    "collapsed": false
   },
   "outputs": [],
   "source": [
    "scene = load_scene('mitsuba/campus/campus.xml')  # Try also sionna.rt.scene.etoile\n",
    "# scene = load_scene(sionna.rt.scene.munich)\n",
    "scene.preview()"
   ]
  },
  {
   "cell_type": "code",
   "execution_count": null,
   "id": "4f6711cdee23ae0e",
   "metadata": {
    "collapsed": false
   },
   "outputs": [],
   "source": [
    "scene.render(camera=\"preview\", num_samples=512)"
   ]
  },
  {
   "cell_type": "code",
   "execution_count": null,
   "id": "c139e5441f307f1f",
   "metadata": {
    "collapsed": false
   },
   "outputs": [],
   "source": [
    "# Configure antenna array for all transmitters\n",
    "scene.tx_array = PlanarArray(num_rows=8,\n",
    "                          num_cols=2,\n",
    "                          vertical_spacing=0.7,\n",
    "                          horizontal_spacing=0.5,\n",
    "                          pattern=\"tr38901\",\n",
    "                          polarization=\"VH\")\n",
    "\n",
    "# Configure antenna array for all receivers\n",
    "scene.rx_array = PlanarArray(num_rows=1,\n",
    "                          num_cols=1,\n",
    "                          vertical_spacing=0.5,\n",
    "                          horizontal_spacing=0.5,\n",
    "                          pattern=\"dipole\",\n",
    "                          polarization=\"cross\")\n",
    "\n",
    "# Create transmitter\n",
    "tx = Transmitter(name=\"tx\",\n",
    "              position=[8.5,21,27],\n",
    "              orientation=[0,0,0])\n",
    "scene.add(tx)\n",
    "\n",
    "# Create a receiver\n",
    "rx = Receiver(name=\"rx\",\n",
    "           position=[45,90,1.5],\n",
    "           orientation=[0,0,0])\n",
    "scene.add(rx)\n",
    "\n",
    "# TX points towards RX\n",
    "tx.look_at(rx)\n",
    "\n",
    "print(scene.transmitters)\n",
    "print(scene.receivers)"
   ]
  },
  {
   "cell_type": "code",
   "execution_count": null,
   "id": "bccf4c9bdaa2990e",
   "metadata": {
    "collapsed": false
   },
   "outputs": [],
   "source": [
    "paths = scene.compute_paths(max_depth=5,\n",
    "                            num_samples=1e6)"
   ]
  },
  {
   "cell_type": "code",
   "execution_count": null,
   "id": "a1c48f53e4cad2e1",
   "metadata": {
    "collapsed": false
   },
   "outputs": [],
   "source": [
    "scene.preview(paths=paths) # Open preview showing paths"
   ]
  },
  {
   "cell_type": "code",
   "execution_count": null,
   "id": "cbca3fb7e5aaf1ad",
   "metadata": {
    "collapsed": false
   },
   "outputs": [],
   "source": [
    "#cm = scene.coverage_map(cm_cell_size=[1.,1.], # Configure size of each cell\n",
    "#                        num_samples=1e7) # Number of rays to trace"
   ]
  },
  {
   "cell_type": "code",
   "execution_count": null,
   "id": "5cfc969c-b9f2-4f13-832e-d3c4852515d0",
   "metadata": {},
   "outputs": [],
   "source": [
    "\n",
    "print(\"Source coordinates: \", paths.sources.numpy())\n",
    "print(\"Transmitter coordinates: \", list(scene.transmitters.values())[0].position.numpy())\n",
    "\n",
    "\n",
    "\n",
    "print(\"Target coordinates: \",paths.targets.numpy())\n",
    "print(\"Receiver coordinates: \",list(scene.receivers.values())[0].position.numpy())\n"
   ]
  },
  {
   "cell_type": "code",
   "execution_count": null,
   "id": "204218d5-c584-490c-a1ff-1bff0f16b6f2",
   "metadata": {},
   "outputs": [],
   "source": [
    "path_idx = 4\n",
    "\n",
    "# For a detailed overview of the dimensions of all properties, have a look at the API documentation\n",
    "print(f\"\\n--- Detailed results for path {path_idx} ---\")\n",
    "print(f\"Channel coefficient: {paths.mat_t.numpy()}\")\n",
    "print(f\"Propagation delay: {paths.tau[0,0,0,path_idx].numpy()*1e6:.5f} us\")\n",
    "print(f\"Zenith angle of departure: {paths.theta_t[0,0,0,path_idx]:.4f} rad\")\n",
    "print(f\"Azimuth angle of departure: {paths.phi_t[0,0,0,path_idx]:.4f} rad\")\n",
    "print(f\"Zenith angle of arrival: {paths.theta_r[0,0,0,path_idx]:.4f} rad\")\n",
    "print(f\"Azimuth angle of arrival: {paths.phi_r[0,0,0,path_idx]:.4f} rad\")"
   ]
  },
  {
   "cell_type": "code",
   "execution_count": null,
   "id": "bfafe97e-201e-48b4-a071-ff336b907148",
   "metadata": {},
   "outputs": [],
   "source": []
  }
 ],
 "metadata": {
  "kernelspec": {
   "display_name": "Python 3 (ipykernel)",
   "language": "python",
   "name": "python3"
  },
  "language_info": {
   "codemirror_mode": {
    "name": "ipython",
    "version": 3
   },
   "file_extension": ".py",
   "mimetype": "text/x-python",
   "name": "python",
   "nbconvert_exporter": "python",
   "pygments_lexer": "ipython3",
   "version": "3.8.18"
  }
 },
 "nbformat": 4,
 "nbformat_minor": 5
}
