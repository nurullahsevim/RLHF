{
 "cells": [
  {
   "cell_type": "code",
   "execution_count": null,
   "id": "initial_id",
   "metadata": {
    "collapsed": true
   },
   "outputs": [],
   "source": [
    "import torch\n",
    "from transformers import T5Tokenizer, T5ForConditionalGeneration\n",
    "from generate_data import MyDataset\n",
    "from datasets import Dataset\n",
    "from datasets import IterableDataset\n",
    "import torch\n",
    "import os,sys\n",
    "from model import RegressionModel\n",
    "from transformers import T5Tokenizer, T5ForConditionalGeneration, AutoTokenizer\n",
    "from torch.utils.data import TensorDataset, DataLoader, RandomSampler\n",
    "from torch.optim import AdamW\n",
    "import torch.nn as nn\n",
    "from sklearn.model_selection import train_test_split\n",
    "import tqdm\n",
    "import numpy as np\n",
    "from wireless import LOS_Env\n",
    "from transformers import pipeline, set_seed\n",
    "import transformers\n",
    "from transformers import LlamaTokenizer, LlamaForCausalLM\n",
    "from transformers import AutoModelForQuestionAnswering, AutoTokenizer, AutoModel, pipeline\n",
    "import sionna\n",
    "import tensorflow as tf\n",
    "import matplotlib.pyplot as plt\n",
    "import numpy as np\n",
    "import time\n",
    "\n",
    "# Import Sionna RT components\n",
    "from sionna.rt import load_scene, Transmitter, Receiver, PlanarArray, Camera\n",
    "\n",
    "# For link-level simulations\n",
    "from sionna.channel import cir_to_ofdm_channel, subcarrier_frequencies, OFDMChannel, ApplyOFDMChannel, CIRDataset\n",
    "from sionna.nr import PUSCHConfig, PUSCHTransmitter, PUSCHReceiver\n",
    "from sionna.utils import compute_ber, ebnodb2no, PlotBER\n",
    "from sionna.ofdm import KBestDetector, LinearDetector\n",
    "from sionna.mimo import StreamManagement"
   ]
  },
  {
   "cell_type": "code",
   "execution_count": null,
   "outputs": [],
   "source": [
    "gpus = tf.config.list_physical_devices('GPU')\n",
    "if gpus:\n",
    "    try:\n",
    "        tf.config.experimental.set_memory_growth(gpus[0], True)\n",
    "    except RuntimeError as e:\n",
    "        print(e)\n",
    "# Avoid warnings from TensorFlow\n",
    "tf.get_logger().setLevel('ERROR')\n",
    "tf.random.set_seed(1)  # Set global random seed for reproducibility"
   ],
   "metadata": {
    "collapsed": false
   },
   "id": "5d6054d3f47f198c"
  },
  {
   "cell_type": "code",
   "execution_count": null,
   "outputs": [],
   "source": [
    "scene = load_scene('mitsuba/campus/campus.xml')  # Try also sionna.rt.scene.etoile\n",
    "# scene = load_scene(sionna.rt.scene.munich)\n",
    "scene.preview()"
   ],
   "metadata": {
    "collapsed": false
   },
   "id": "733b9323ffd4cdfb"
  },
  {
   "cell_type": "code",
   "execution_count": null,
   "outputs": [],
   "source": [
    "scene.render(camera=\"preview\", num_samples=512)"
   ],
   "metadata": {
    "collapsed": false
   },
   "id": "4f6711cdee23ae0e"
  },
  {
   "cell_type": "code",
   "execution_count": null,
   "outputs": [],
   "source": [
    "# Configure antenna array for all transmitters\n",
    "scene.tx_array = PlanarArray(num_rows=1,\n",
    "                          num_cols=1,\n",
    "                          vertical_spacing=0.5,\n",
    "                          horizontal_spacing=0.5,\n",
    "                          pattern=\"tr38901\",\n",
    "                          polarization=\"VH\")\n",
    "\n",
    "# Configure antenna array for all receivers\n",
    "scene.rx_array = PlanarArray(num_rows=1,\n",
    "                          num_cols=1,\n",
    "                          vertical_spacing=0.5,\n",
    "                          horizontal_spacing=0.5,\n",
    "                          pattern=\"dipole\",\n",
    "                          polarization=\"cross\")\n",
    "\n",
    "# Create transmitter\n",
    "tx = Transmitter(name=\"tx\",\n",
    "              position=[150,100,50],\n",
    "              orientation=[0,0,0])\n",
    "scene.add(tx)\n",
    "\n",
    "# Create a receiver\n",
    "rx = Receiver(name=\"rx\",\n",
    "           position=[250,-150,1.5],\n",
    "           orientation=[0,0,0])\n",
    "scene.add(rx)\n",
    "\n",
    "# TX points towards RX\n",
    "tx.look_at(rx)\n",
    "\n",
    "print(scene.transmitters)\n",
    "print(scene.receivers)"
   ],
   "metadata": {
    "collapsed": false
   },
   "id": "c139e5441f307f1f"
  },
  {
   "cell_type": "code",
   "execution_count": null,
   "outputs": [],
   "source": [
    "cm = scene.coverage_map()"
   ],
   "metadata": {
    "collapsed": false
   },
   "id": "bccf4c9bdaa2990e"
  },
  {
   "cell_type": "code",
   "execution_count": null,
   "outputs": [],
   "source": [],
   "metadata": {
    "collapsed": false
   },
   "id": "a1c48f53e4cad2e1"
  }
 ],
 "metadata": {
  "kernelspec": {
   "display_name": "Python 3",
   "language": "python",
   "name": "python3"
  },
  "language_info": {
   "codemirror_mode": {
    "name": "ipython",
    "version": 2
   },
   "file_extension": ".py",
   "mimetype": "text/x-python",
   "name": "python",
   "nbconvert_exporter": "python",
   "pygments_lexer": "ipython2",
   "version": "2.7.6"
  }
 },
 "nbformat": 4,
 "nbformat_minor": 5
}
